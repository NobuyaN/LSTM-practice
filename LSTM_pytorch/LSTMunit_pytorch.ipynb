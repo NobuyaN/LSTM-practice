{
 "cells": [
  {
   "cell_type": "code",
   "execution_count": 1,
   "metadata": {},
   "outputs": [],
   "source": [
    "import torch\n",
    "import torch.nn as nn\n",
    "from torch.optim import Adam\n",
    "import lightning as L\n",
    "from torch.utils.data import TensorDataset, DataLoader"
   ]
  },
  {
   "cell_type": "code",
   "execution_count": 2,
   "metadata": {},
   "outputs": [],
   "source": [
    "class LightningLSTM(L.LightningModule):\n",
    "  def __init__(self):\n",
    "    super().__init__()\n",
    "\n",
    "    self.lstm = nn.LSTM(input_size=1, hidden_size=1)\n",
    "  \n",
    "  def forward(self, input):\n",
    "    #Transpose the input tensor from 1 x Input_size to Input_size x 1\n",
    "    # input.view(number_of_rows, number_of_columns)\n",
    "    input_transpose = input.view(len(input), 1)\n",
    "\n",
    "    #lstm contains short-term-memory values for each LSTM unit (would be size of input)\n",
    "    lstm_out, temp = self.lstm(input_transpose)\n",
    "    prediction = lstm_out[-1]\n",
    "    return prediction\n",
    "\n",
    "  def configure_optimizers(self):\n",
    "    return Adam(self.parameters())\n",
    "  \n",
    "  def training_step(self, batch):\n",
    "    input_i, label_i = batch\n",
    "    output_i = self.forward(input_i[0]) # Since input_i is a 2d tensor, access the 1d list by indexing 0\n",
    "    loss = (output_i - label_i)**2\n",
    "\n",
    "    self.log(\"train_loss\", loss)\n",
    "\n",
    "    if label_i == 0:\n",
    "      self.log(\"out_0\", output_i)\n",
    "    else:\n",
    "      self.log(\"out_1\", output_i)\n",
    "\n",
    "    return loss\n",
    "  \n",
    "model = LightningLSTM()"
   ]
  },
  {
   "cell_type": "code",
   "execution_count": 3,
   "metadata": {},
   "outputs": [],
   "source": [
    "inputs = torch.tensor([[0., 0.5, 0.25, 1.], [1., 0.5, 0.25, 1.]])\n",
    "labels = torch.tensor([0., 1.])\n",
    "\n",
    "dataset = TensorDataset(inputs, labels)\n",
    "dataloader = DataLoader(dataset)"
   ]
  },
  {
   "cell_type": "code",
   "execution_count": 4,
   "metadata": {},
   "outputs": [
    {
     "name": "stderr",
     "output_type": "stream",
     "text": [
      "GPU available: True (cuda), used: True\n",
      "TPU available: False, using: 0 TPU cores\n",
      "IPU available: False, using: 0 IPUs\n",
      "HPU available: False, using: 0 HPUs\n"
     ]
    },
    {
     "name": "stdout",
     "output_type": "stream",
     "text": [
      "WARNING:tensorflow:From d:\\python3115\\Lib\\site-packages\\keras\\src\\losses.py:2976: The name tf.losses.sparse_softmax_cross_entropy is deprecated. Please use tf.compat.v1.losses.sparse_softmax_cross_entropy instead.\n",
      "\n"
     ]
    },
    {
     "name": "stderr",
     "output_type": "stream",
     "text": [
      "LOCAL_RANK: 0 - CUDA_VISIBLE_DEVICES: [0]\n",
      "\n",
      "  | Name | Type | Params\n",
      "------------------------------\n",
      "0 | lstm | LSTM | 16    \n",
      "------------------------------\n",
      "16        Trainable params\n",
      "0         Non-trainable params\n",
      "16        Total params\n",
      "0.000     Total estimated model params size (MB)\n",
      "d:\\python3115\\Lib\\site-packages\\lightning\\pytorch\\trainer\\connectors\\data_connector.py:441: The 'train_dataloader' does not have many workers which may be a bottleneck. Consider increasing the value of the `num_workers` argument` to `num_workers=7` in the `DataLoader` to improve performance.\n",
      "d:\\python3115\\Lib\\site-packages\\lightning\\pytorch\\loops\\fit_loop.py:298: The number of training batches (2) is smaller than the logging interval Trainer(log_every_n_steps=50). Set a lower value for log_every_n_steps if you want to see logs for the training epoch.\n"
     ]
    },
    {
     "name": "stdout",
     "output_type": "stream",
     "text": [
      "Epoch 1999: 100%|██████████| 2/2 [00:00<00:00, 17.59it/s, v_num=0] "
     ]
    },
    {
     "name": "stderr",
     "output_type": "stream",
     "text": [
      "`Trainer.fit` stopped: `max_epochs=2000` reached.\n"
     ]
    },
    {
     "name": "stdout",
     "output_type": "stream",
     "text": [
      "Epoch 1999: 100%|██████████| 2/2 [00:00<00:00, 15.53it/s, v_num=0]\n"
     ]
    }
   ],
   "source": [
    "trainer = L.Trainer(max_epochs=2000)\n",
    "trainer.fit(model, train_dataloaders=dataloader)"
   ]
  },
  {
   "cell_type": "code",
   "execution_count": 5,
   "metadata": {},
   "outputs": [
    {
     "name": "stdout",
     "output_type": "stream",
     "text": [
      "COMPANY A: observed = 0, predicted = 0.0081\n",
      "COMPANY B: observed = 1, predicted = 0.8116\n"
     ]
    }
   ],
   "source": [
    "company_a_pred = model(torch.tensor([0., 0.5, 0.25, 1.]))\n",
    "company_b_pred = model(torch.tensor([1., 0.5, 0.25, 1.]))\n",
    "print(f\"COMPANY A: observed = 0, predicted = {company_a_pred.detach().item():0.4f}\")\n",
    "print(f\"COMPANY B: observed = 1, predicted = {company_b_pred.detach().item():0.4f}\")"
   ]
  },
  {
   "cell_type": "code",
   "execution_count": 6,
   "metadata": {},
   "outputs": [
    {
     "name": "stderr",
     "output_type": "stream",
     "text": [
      "GPU available: True (cuda), used: True\n",
      "TPU available: False, using: 0 TPU cores\n",
      "IPU available: False, using: 0 IPUs\n",
      "HPU available: False, using: 0 HPUs\n",
      "Restoring states from the checkpoint path at d:\\githubrepo\\LSTM-practice\\LSTM_pytorch\\lightning_logs\\version_0\\checkpoints\\epoch=1999-step=4000.ckpt\n",
      "d:\\python3115\\Lib\\site-packages\\lightning\\pytorch\\callbacks\\model_checkpoint.py:360: The dirpath has changed from 'd:\\\\githubrepo\\\\LSTM-practice\\\\LSTM_pytorch\\\\lightning_logs\\\\version_0\\\\checkpoints' to 'd:\\\\githubrepo\\\\LSTM-practice\\\\LSTM_pytorch\\\\lightning_logs\\\\version_1\\\\checkpoints', therefore `best_model_score`, `kth_best_model_path`, `kth_value`, `last_model_path` and `best_k_models` won't be reloaded. Only `best_model_path` will be reloaded.\n",
      "LOCAL_RANK: 0 - CUDA_VISIBLE_DEVICES: [0]\n",
      "\n",
      "  | Name | Type | Params\n",
      "------------------------------\n",
      "0 | lstm | LSTM | 16    \n",
      "------------------------------\n",
      "16        Trainable params\n",
      "0         Non-trainable params\n",
      "16        Total params\n",
      "0.000     Total estimated model params size (MB)\n",
      "Restored all states from the checkpoint at d:\\githubrepo\\LSTM-practice\\LSTM_pytorch\\lightning_logs\\version_0\\checkpoints\\epoch=1999-step=4000.ckpt\n",
      "d:\\python3115\\Lib\\site-packages\\lightning\\pytorch\\trainer\\connectors\\data_connector.py:441: The 'train_dataloader' does not have many workers which may be a bottleneck. Consider increasing the value of the `num_workers` argument` to `num_workers=7` in the `DataLoader` to improve performance.\n",
      "d:\\python3115\\Lib\\site-packages\\lightning\\pytorch\\loops\\fit_loop.py:298: The number of training batches (2) is smaller than the logging interval Trainer(log_every_n_steps=50). Set a lower value for log_every_n_steps if you want to see logs for the training epoch.\n"
     ]
    },
    {
     "name": "stdout",
     "output_type": "stream",
     "text": [
      "Epoch 3999: 100%|██████████| 2/2 [00:00<00:00, 22.16it/s, v_num=1] "
     ]
    },
    {
     "name": "stderr",
     "output_type": "stream",
     "text": [
      "`Trainer.fit` stopped: `max_epochs=4000` reached.\n"
     ]
    },
    {
     "name": "stdout",
     "output_type": "stream",
     "text": [
      "Epoch 3999: 100%|██████████| 2/2 [00:00<00:00, 19.38it/s, v_num=1]\n"
     ]
    }
   ],
   "source": [
    "path_to_best_checkpoint = trainer.checkpoint_callback.best_model_path\n",
    "trainer = L.Trainer(max_epochs=4000)\n",
    "trainer.fit(model, train_dataloaders=dataloader, ckpt_path=path_to_best_checkpoint)"
   ]
  },
  {
   "cell_type": "code",
   "execution_count": 7,
   "metadata": {},
   "outputs": [
    {
     "name": "stdout",
     "output_type": "stream",
     "text": [
      "COMPANY A: observed = 0, predicted = 0.0001\n",
      "COMPANY B: observed = 1, predicted = 0.9632\n"
     ]
    }
   ],
   "source": [
    "company_a_pred = model(torch.tensor([0., 0.5, 0.25, 1.]))\n",
    "company_b_pred = model(torch.tensor([1., 0.5, 0.25, 1.]))\n",
    "print(f\"COMPANY A: observed = 0, predicted = {company_a_pred.detach().item():0.4f}\")\n",
    "print(f\"COMPANY B: observed = 1, predicted = {company_b_pred.detach().item():0.4f}\")"
   ]
  }
 ],
 "metadata": {
  "kernelspec": {
   "display_name": "Python 3",
   "language": "python",
   "name": "python3"
  },
  "language_info": {
   "codemirror_mode": {
    "name": "ipython",
    "version": 3
   },
   "file_extension": ".py",
   "mimetype": "text/x-python",
   "name": "python",
   "nbconvert_exporter": "python",
   "pygments_lexer": "ipython3",
   "version": "3.11.5"
  }
 },
 "nbformat": 4,
 "nbformat_minor": 2
}

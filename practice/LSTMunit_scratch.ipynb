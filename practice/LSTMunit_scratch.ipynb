{
 "cells": [
  {
   "cell_type": "code",
   "execution_count": 13,
   "metadata": {},
   "outputs": [],
   "source": [
    "import torch\n",
    "import torch.nn as nn\n",
    "import torch.functional as F\n",
    "from torch.optim import Adam\n",
    "import lightning as L\n",
    "from torch.utils.data import TensorDataset, DataLoader"
   ]
  },
  {
   "cell_type": "code",
   "execution_count": 4,
   "metadata": {},
   "outputs": [],
   "source": [
    "class LSTMbyHand(L.LightningModule):\n",
    "  def __init__(self):\n",
    "    super(LSTMbyHand, self).__init__()\n",
    "    mean = torch.tensor(0.0)\n",
    "    std = torch.tensor(1.0)\n",
    "\n",
    "    #Initialize all parameter with the normal distribution\n",
    "\n",
    "    #forget gate\n",
    "    self.wlr1 = nn.Parameter(torch.normal(mean=mean, std=std), requires_grad=True)\n",
    "    self.wlr2 = nn.Parameter(torch.normal(mean=mean, std=std), requires_grad=True)\n",
    "    self.blr1 = nn.Parameter(torch.tensor(0.), requires_grad=True) \n",
    "\n",
    "    #input gate sigmoid (which memory to add/remove)\n",
    "    self.wpr1 = nn.Parameter(torch.normal(mean=mean, std=std), requires_grad=True)\n",
    "    self.wpr2 = nn.Parameter(torch.normal(mean=mean, std=std), requires_grad=True)\n",
    "    self.bpr1 = nn.Parameter(torch.tensor(0.), requires_grad=True)\n",
    "\n",
    "    #input gate tanh (value of the potential memory to add)\n",
    "    self.wp1 = nn.Parameter(torch.normal(mean=mean, std=std), requires_grad=True)\n",
    "    self.wp2 = nn.Parameter(torch.normal(mean=mean, std=std), requires_grad=True)\n",
    "    self.bp1 = nn.Parameter(torch.tensor(0.), requires_grad=True)\n",
    "\n",
    "    #output gate\n",
    "    self.wo1 = nn.Parameter(torch.normal(mean=mean, std=std), requires_grad=True)\n",
    "    self.wo2 = nn.Parameter(torch.normal(mean=mean, std=std), requires_grad=True)\n",
    "    self.bo1 = nn.Parameter(torch.tensor(0.), requires_grad=True)\n",
    "    \n",
    "  def lstm_unit(self, input_value, long_memory, short_memory):\n",
    "    # Forget Gate of removing long term memory\n",
    "    long_remember_percent = torch.sigmoid((short_memory * self.wlr1) + (input_value * self.wlr2) + self.blr1)\n",
    "\n",
    "    # Input Gate for adding new long term memory\n",
    "    potential_remember_percent = torch.sigmoid((short_memory * self.wpr1) + (input_value * self.wpr2) + self.bpr1)\n",
    "    potential_memory = torch.tanh((short_memory * self.wp1) + (input_value * self.wp2) + self.bp1)\n",
    "    updated_long_memory = (long_remember_percent * long_memory) + (potential_remember_percent * potential_memory)\n",
    "\n",
    "    # Output Gate for returning the new short term memory\n",
    "    output_percent = torch.sigmoid((short_memory * self.wo1) + (input_value * self.wo2) + self.bo1)\n",
    "    updated_short_memory = torch.tanh(updated_long_memory) * output_percent\n",
    "\n",
    "    return [updated_long_memory, updated_short_memory]\n",
    "\n",
    "  def forward(self, input):\n",
    "    long_memory = 0\n",
    "    short_memory = 0\n",
    "    \n",
    "    day1 = input[0]\n",
    "    day2 = input[1]\n",
    "    day3 = input[2]\n",
    "    day4 = input[3]\n",
    "\n",
    "    long_memory, short_memory = self.lstm_unit(day1, long_memory, short_memory)\n",
    "    long_memory, short_memory = self.lstm_unit(day2, long_memory, short_memory)\n",
    "    long_memory, short_memory = self.lstm_unit(day3, long_memory, short_memory)\n",
    "    long_memory, short_memory = self.lstm_unit(day4, long_memory, short_memory)\n",
    "\n",
    "    return short_memory\n",
    "\n",
    "  # Required for Lightning module\n",
    "  def configure_optimizers(self):\n",
    "    return Adam(self.parameters())\n",
    "  \n",
    "  # Required for Lightning module\n",
    "  def training_step(self, batch, batch_idx):\n",
    "    input_i, label_i = batch\n",
    "    output_i = self.forward(input_i[0])\n",
    "    loss = (output_i - label_i)**2\n",
    "\n",
    "    self.log(\"train_loss\", loss)\n",
    "\n",
    "    if label_i == 0:\n",
    "      self.log(\"out_0\", output_i)\n",
    "    else:\n",
    "      self.log(\"out_1\", output_i)\n",
    "\n",
    "    return loss\n",
    "  \n",
    "model = LSTMbyHand()"
   ]
  },
  {
   "cell_type": "code",
   "execution_count": 5,
   "metadata": {},
   "outputs": [],
   "source": [
    "inputs = torch.tensor([[0., 0.5, 0.25, 1.], [1., 0.5, 0.25, 1.]])\n",
    "labels = torch.tensor([0., 1.])\n",
    "\n",
    "dataset = TensorDataset(inputs, labels)\n",
    "dataloader = DataLoader(dataset)"
   ]
  },
  {
   "cell_type": "code",
   "execution_count": 6,
   "metadata": {},
   "outputs": [
    {
     "name": "stderr",
     "output_type": "stream",
     "text": [
      "GPU available: True (cuda), used: True\n",
      "TPU available: False, using: 0 TPU cores\n",
      "IPU available: False, using: 0 IPUs\n",
      "HPU available: False, using: 0 HPUs\n"
     ]
    },
    {
     "name": "stdout",
     "output_type": "stream",
     "text": [
      "WARNING:tensorflow:From d:\\python3115\\Lib\\site-packages\\keras\\src\\losses.py:2976: The name tf.losses.sparse_softmax_cross_entropy is deprecated. Please use tf.compat.v1.losses.sparse_softmax_cross_entropy instead.\n",
      "\n"
     ]
    },
    {
     "name": "stderr",
     "output_type": "stream",
     "text": [
      "LOCAL_RANK: 0 - CUDA_VISIBLE_DEVICES: [0]\n",
      "\n",
      "  | Name         | Type | Params\n",
      "--------------------------------------\n",
      "  | other params | n/a  | 12    \n",
      "--------------------------------------\n",
      "12        Trainable params\n",
      "0         Non-trainable params\n",
      "12        Total params\n",
      "0.000     Total estimated model params size (MB)\n",
      "d:\\python3115\\Lib\\site-packages\\lightning\\pytorch\\trainer\\connectors\\data_connector.py:441: The 'train_dataloader' does not have many workers which may be a bottleneck. Consider increasing the value of the `num_workers` argument` to `num_workers=7` in the `DataLoader` to improve performance.\n",
      "d:\\python3115\\Lib\\site-packages\\lightning\\pytorch\\loops\\fit_loop.py:298: The number of training batches (2) is smaller than the logging interval Trainer(log_every_n_steps=50). Set a lower value for log_every_n_steps if you want to see logs for the training epoch.\n"
     ]
    },
    {
     "name": "stdout",
     "output_type": "stream",
     "text": [
      "Epoch 1999: 100%|██████████| 2/2 [00:00<00:00, 26.44it/s, v_num=1]"
     ]
    },
    {
     "name": "stderr",
     "output_type": "stream",
     "text": [
      "`Trainer.fit` stopped: `max_epochs=2000` reached.\n"
     ]
    },
    {
     "name": "stdout",
     "output_type": "stream",
     "text": [
      "Epoch 1999: 100%|██████████| 2/2 [00:00<00:00, 22.32it/s, v_num=1]\n"
     ]
    }
   ],
   "source": [
    "trainer = L.Trainer(max_epochs=2000)\n",
    "trainer.fit(model, train_dataloaders=dataloader)"
   ]
  },
  {
   "cell_type": "code",
   "execution_count": 7,
   "metadata": {},
   "outputs": [
    {
     "name": "stdout",
     "output_type": "stream",
     "text": [
      "COMPANY A: observed = 0, predicted = 0.0047\n",
      "COMPANY B: observed = 1, predicted = 0.8993\n"
     ]
    }
   ],
   "source": [
    "company_a_pred = model(torch.tensor([0., 0.5, 0.25, 1.]))\n",
    "company_b_pred = model(torch.tensor([1., 0.5, 0.25, 1.]))\n",
    "print(f\"COMPANY A: observed = 0, predicted = {company_a_pred.detach().item():0.4f}\")\n",
    "print(f\"COMPANY B: observed = 1, predicted = {company_b_pred.detach().item():0.4f}\")"
   ]
  },
  {
   "cell_type": "code",
   "execution_count": 11,
   "metadata": {},
   "outputs": [
    {
     "name": "stderr",
     "output_type": "stream",
     "text": [
      "GPU available: True (cuda), used: True\n",
      "TPU available: False, using: 0 TPU cores\n",
      "IPU available: False, using: 0 IPUs\n",
      "HPU available: False, using: 0 HPUs\n",
      "Restoring states from the checkpoint path at d:\\githubrepo\\LSTM-practice\\practice\\lightning_logs\\version_1\\checkpoints\\epoch=1999-step=4000.ckpt\n",
      "d:\\python3115\\Lib\\site-packages\\lightning\\pytorch\\callbacks\\model_checkpoint.py:360: The dirpath has changed from 'd:\\\\githubrepo\\\\LSTM-practice\\\\practice\\\\lightning_logs\\\\version_1\\\\checkpoints' to 'd:\\\\githubrepo\\\\LSTM-practice\\\\practice\\\\lightning_logs\\\\version_2\\\\checkpoints', therefore `best_model_score`, `kth_best_model_path`, `kth_value`, `last_model_path` and `best_k_models` won't be reloaded. Only `best_model_path` will be reloaded.\n",
      "LOCAL_RANK: 0 - CUDA_VISIBLE_DEVICES: [0]\n",
      "\n",
      "  | Name         | Type | Params\n",
      "--------------------------------------\n",
      "  | other params | n/a  | 12    \n",
      "--------------------------------------\n",
      "12        Trainable params\n",
      "0         Non-trainable params\n",
      "12        Total params\n",
      "0.000     Total estimated model params size (MB)\n",
      "Restored all states from the checkpoint at d:\\githubrepo\\LSTM-practice\\practice\\lightning_logs\\version_1\\checkpoints\\epoch=1999-step=4000.ckpt\n",
      "d:\\python3115\\Lib\\site-packages\\lightning\\pytorch\\trainer\\connectors\\data_connector.py:441: The 'train_dataloader' does not have many workers which may be a bottleneck. Consider increasing the value of the `num_workers` argument` to `num_workers=7` in the `DataLoader` to improve performance.\n",
      "d:\\python3115\\Lib\\site-packages\\lightning\\pytorch\\loops\\fit_loop.py:298: The number of training batches (2) is smaller than the logging interval Trainer(log_every_n_steps=50). Set a lower value for log_every_n_steps if you want to see logs for the training epoch.\n"
     ]
    },
    {
     "name": "stdout",
     "output_type": "stream",
     "text": [
      "Epoch 2999: 100%|██████████| 2/2 [00:00<00:00, 22.95it/s, v_num=2]"
     ]
    },
    {
     "name": "stderr",
     "output_type": "stream",
     "text": [
      "`Trainer.fit` stopped: `max_epochs=3000` reached.\n"
     ]
    },
    {
     "name": "stdout",
     "output_type": "stream",
     "text": [
      "Epoch 2999: 100%|██████████| 2/2 [00:00<00:00, 19.78it/s, v_num=2]\n"
     ]
    }
   ],
   "source": [
    "# Train where we left off (instead of retraining 3000 epochs, start from the trained 2000 epochs and train until it reaches 3000)\n",
    "path_to_best_checkpoint = trainer.checkpoint_callback.best_model_path\n",
    "trainer = L.Trainer(max_epochs=3000)\n",
    "trainer.fit(model, train_dataloaders=dataloader, ckpt_path=path_to_best_checkpoint)"
   ]
  },
  {
   "cell_type": "code",
   "execution_count": 12,
   "metadata": {},
   "outputs": [
    {
     "name": "stdout",
     "output_type": "stream",
     "text": [
      "COMPANY A: observed = 0, predicted = 0.0005\n",
      "COMPANY B: observed = 1, predicted = 0.9550\n"
     ]
    }
   ],
   "source": [
    "company_a_pred = model(torch.tensor([0., 0.5, 0.25, 1.]))\n",
    "company_b_pred = model(torch.tensor([1., 0.5, 0.25, 1.]))\n",
    "print(f\"COMPANY A: observed = 0, predicted = {company_a_pred.detach().item():0.4f}\")\n",
    "print(f\"COMPANY B: observed = 1, predicted = {company_b_pred.detach().item():0.4f}\")"
   ]
  },
  {
   "cell_type": "code",
   "execution_count": 10,
   "metadata": {},
   "outputs": [],
   "source": [
    "# Access Tensorboard to look at log files by command: \"tensorboard --logdir=lightning_logs/\" with log path in ls\n",
    "# open the tensorboard local host in a browser"
   ]
  },
  {
   "cell_type": "code",
   "execution_count": null,
   "metadata": {},
   "outputs": [],
   "source": [
    "# Taken from StatQuest Youtube for LSTM implementation using Pytorch and Lightning"
   ]
  }
 ],
 "metadata": {
  "kernelspec": {
   "display_name": "Python 3",
   "language": "python",
   "name": "python3"
  },
  "language_info": {
   "codemirror_mode": {
    "name": "ipython",
    "version": 3
   },
   "file_extension": ".py",
   "mimetype": "text/x-python",
   "name": "python",
   "nbconvert_exporter": "python",
   "pygments_lexer": "ipython3",
   "version": "3.11.5"
  }
 },
 "nbformat": 4,
 "nbformat_minor": 2
}

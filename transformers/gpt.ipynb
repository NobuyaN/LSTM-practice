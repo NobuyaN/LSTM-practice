{
 "cells": [
  {
   "cell_type": "markdown",
   "metadata": {},
   "source": [
    "## Andrej Karpathy's GPT video code run"
   ]
  },
  {
   "cell_type": "code",
   "execution_count": 2,
   "metadata": {},
   "outputs": [],
   "source": [
    "import torch\n",
    "import torch.nn as nn\n",
    "from torch.nn import functional as F"
   ]
  },
  {
   "cell_type": "code",
   "execution_count": 3,
   "metadata": {},
   "outputs": [],
   "source": [
    "with open(\"input.txt\", \"r\", encoding=\"utf-8\") as f:\n",
    "  text = f.read()"
   ]
  },
  {
   "cell_type": "code",
   "execution_count": 4,
   "metadata": {},
   "outputs": [
    {
     "name": "stdout",
     "output_type": "stream",
     "text": [
      "First Citizen:\n",
      "Before we proceed any further, hear me speak.\n",
      "\n",
      "All:\n",
      "Speak, speak.\n",
      "\n",
      "First Citizen:\n",
      "You are all resolved rather to die than to famish?\n",
      "\n",
      "All:\n",
      "Resolved. resolved.\n",
      "\n",
      "First Citizen:\n",
      "First, you know Caius Marcius is chief enemy to the people.\n",
      "\n",
      "All:\n",
      "We know't, we know't.\n",
      "\n",
      "First Citizen:\n",
      "Let us\n"
     ]
    }
   ],
   "source": [
    "# First 300 letters in the shakespeare text\n",
    "print(text[:300])"
   ]
  },
  {
   "cell_type": "markdown",
   "metadata": {},
   "source": [
    "# Create Basic Character Level Encoding"
   ]
  },
  {
   "cell_type": "code",
   "execution_count": 5,
   "metadata": {},
   "outputs": [
    {
     "name": "stdout",
     "output_type": "stream",
     "text": [
      "\n",
      " !$&',-.3:;?ABCDEFGHIJKLMNOPQRSTUVWXYZabcdefghijklmnopqrstuvwxyz\n",
      "vocab size: 65\n"
     ]
    }
   ],
   "source": [
    "chars = sorted(list(set(text)))\n",
    "vocab_size = len(chars)\n",
    "print(''.join(chars))\n",
    "print(\"vocab size:\", vocab_size)"
   ]
  },
  {
   "cell_type": "code",
   "execution_count": 6,
   "metadata": {},
   "outputs": [
    {
     "name": "stdout",
     "output_type": "stream",
     "text": [
      "[20, 43, 50, 50, 53, 1, 35, 53, 56, 50, 42]\n",
      "Hello World\n"
     ]
    }
   ],
   "source": [
    "stoi = {ch : i for i, ch in enumerate(chars)}\n",
    "itos = {i : ch for i, ch in enumerate(chars)}\n",
    "\n",
    "encode = lambda s : [stoi[ch] for ch in s]\n",
    "decode = lambda l : ''.join(itos[i] for i in l)\n",
    "\n",
    "print(encode(\"Hello World\"))\n",
    "print(decode(encode(\"Hello World\")))"
   ]
  },
  {
   "cell_type": "code",
   "execution_count": 7,
   "metadata": {},
   "outputs": [
    {
     "name": "stdout",
     "output_type": "stream",
     "text": [
      "torch.Size([1115393])\n",
      "tensor([18, 47, 56, 57, 58,  1, 15, 47, 58, 47, 64, 43, 52, 10,  0, 14, 43, 44,\n",
      "        53, 56, 43,  1, 61, 43,  1, 54, 56, 53, 41, 43, 43, 42,  1, 39, 52, 63,\n",
      "         1, 44, 59, 56, 58, 46, 43, 56,  6,  1, 46, 43, 39, 56,  1, 51, 43,  1,\n",
      "        57, 54, 43, 39, 49,  8,  0,  0, 13, 50, 50, 10,  0, 31, 54, 43, 39, 49,\n",
      "         6,  1, 57, 54, 43, 39, 49,  8,  0,  0, 18, 47, 56, 57, 58,  1, 15, 47,\n",
      "        58, 47, 64, 43, 52, 10,  0, 37, 53, 59,  1, 39, 56, 43,  1, 39, 50, 50,\n",
      "         1, 56, 43, 57, 53, 50, 60, 43, 42,  1, 56, 39, 58, 46, 43, 56,  1, 58,\n",
      "        53,  1, 42, 47, 43,  1, 58, 46, 39, 52,  1, 58, 53,  1, 44, 39, 51, 47,\n",
      "        57, 46, 12,  0,  0, 13, 50, 50, 10,  0, 30, 43, 57, 53, 50, 60, 43, 42,\n",
      "         8,  1, 56, 43, 57, 53, 50, 60, 43, 42,  8,  0,  0, 18, 47, 56, 57, 58,\n",
      "         1, 15, 47, 58, 47, 64, 43, 52, 10,  0, 18, 47, 56, 57, 58,  6,  1, 63,\n",
      "        53, 59,  1, 49, 52, 53, 61,  1, 15, 39, 47, 59, 57,  1, 25, 39, 56, 41,\n",
      "        47, 59, 57,  1, 47, 57,  1, 41, 46, 47, 43, 44,  1, 43, 52, 43, 51, 63,\n",
      "         1, 58, 53,  1, 58, 46, 43,  1, 54, 43, 53, 54, 50, 43,  8,  0,  0, 13,\n",
      "        50, 50, 10,  0, 35, 43,  1, 49, 52, 53, 61,  5, 58,  6,  1, 61, 43,  1,\n",
      "        49, 52, 53, 61,  5, 58,  8,  0,  0, 18, 47, 56, 57, 58,  1, 15, 47, 58,\n",
      "        47, 64, 43, 52, 10,  0, 24, 43, 58,  1, 59, 57,  1, 49, 47, 50, 50,  1,\n",
      "        46, 47, 51,  6,  1, 39, 52, 42,  1, 61, 43,  5, 50, 50,  1, 46, 39, 60,\n",
      "        43,  1, 41, 53, 56, 52,  1, 39, 58,  1, 53, 59, 56,  1, 53, 61, 52,  1,\n",
      "        54, 56, 47, 41, 43,  8,  0, 21, 57,  5, 58,  1, 39,  1, 60, 43, 56, 42,\n",
      "        47, 41, 58, 12,  0,  0, 13, 50, 50, 10,  0, 26, 53,  1, 51, 53, 56, 43,\n",
      "         1, 58, 39, 50, 49, 47, 52, 45,  1, 53, 52,  5, 58, 11,  1, 50, 43, 58,\n",
      "         1, 47, 58,  1, 40, 43,  1, 42, 53, 52, 43, 10,  1, 39, 61, 39, 63,  6,\n",
      "         1, 39, 61, 39, 63,  2,  0,  0, 31, 43, 41, 53, 52, 42,  1, 15, 47, 58,\n",
      "        47, 64, 43, 52, 10,  0, 27, 52, 43,  1, 61, 53, 56, 42,  6,  1, 45, 53,\n",
      "        53, 42,  1, 41, 47, 58, 47, 64, 43, 52, 57,  8,  0,  0, 18, 47, 56, 57,\n",
      "        58,  1, 15, 47, 58, 47, 64, 43, 52, 10,  0, 35, 43,  1, 39, 56, 43,  1,\n",
      "        39, 41, 41, 53, 59, 52, 58, 43, 42,  1, 54, 53, 53, 56])\n"
     ]
    }
   ],
   "source": [
    "data = torch.tensor(encode(text), dtype=torch.long)\n",
    "print(data.shape)\n",
    "print(data[:500])"
   ]
  },
  {
   "cell_type": "code",
   "execution_count": 8,
   "metadata": {},
   "outputs": [
    {
     "name": "stdout",
     "output_type": "stream",
     "text": [
      "torch.Size([1003853])\n",
      "torch.Size([111540])\n"
     ]
    }
   ],
   "source": [
    "n = int(0.9 * len(data))\n",
    "train_data = data[:n] \n",
    "valid_data = data[n:]\n",
    "print(train_data.shape)\n",
    "print(valid_data.shape)"
   ]
  },
  {
   "cell_type": "code",
   "execution_count": 9,
   "metadata": {},
   "outputs": [
    {
     "name": "stdout",
     "output_type": "stream",
     "text": [
      "tensor([18, 47, 56, 57, 58,  1, 15, 47, 58])\n"
     ]
    }
   ],
   "source": [
    "BLOCK_SIZE = 8\n",
    "print(train_data[:BLOCK_SIZE + 1])"
   ]
  },
  {
   "cell_type": "code",
   "execution_count": 16,
   "metadata": {},
   "outputs": [
    {
     "name": "stdout",
     "output_type": "stream",
     "text": [
      "When input is [18], the output is 47\n",
      "When input is [18, 47], the output is 56\n",
      "When input is [18, 47, 56], the output is 57\n",
      "When input is [18, 47, 56, 57], the output is 58\n",
      "When input is [18, 47, 56, 57, 58], the output is 1\n",
      "When input is [18, 47, 56, 57, 58, 1], the output is 15\n",
      "When input is [18, 47, 56, 57, 58, 1, 15], the output is 47\n",
      "When input is [18, 47, 56, 57, 58, 1, 15, 47], the output is 58\n"
     ]
    }
   ],
   "source": [
    "x = train_data[:BLOCK_SIZE]\n",
    "y = train_data[1:BLOCK_SIZE + 1] # y is offset by 1 index to the right of x \n",
    "\n",
    "for i in range(BLOCK_SIZE):\n",
    "  context = x[:i + 1]\n",
    "  target = y[i]\n",
    "\n",
    "  print(f\"When input is {context.tolist()}, the output is {target}\")\n",
    "\n",
    "# From the block size of 8, you get block_size numbered training examples"
   ]
  },
  {
   "cell_type": "code",
   "execution_count": 21,
   "metadata": {},
   "outputs": [
    {
     "name": "stdout",
     "output_type": "stream",
     "text": [
      "context\n",
      "torch.Size([4, 8])\n",
      "tensor([[53, 59,  6,  1, 58, 56, 47, 40],\n",
      "        [49, 43, 43, 54,  1, 47, 58,  1],\n",
      "        [13, 52, 45, 43, 50, 53,  8,  0],\n",
      "        [ 1, 39,  1, 46, 53, 59, 57, 43]])\n",
      "target\n",
      "torch.Size([4, 8])\n",
      "tensor([[59,  6,  1, 58, 56, 47, 40, 59],\n",
      "        [43, 43, 54,  1, 47, 58,  1, 58],\n",
      "        [52, 45, 43, 50, 53,  8,  0, 26],\n",
      "        [39,  1, 46, 53, 59, 57, 43,  0]])\n",
      "----------------------------\n",
      "when the input is [53] the target is 59\n",
      "when the input is [53, 59] the target is 6\n",
      "when the input is [53, 59, 6] the target is 1\n",
      "when the input is [53, 59, 6, 1] the target is 58\n",
      "when the input is [53, 59, 6, 1, 58] the target is 56\n",
      "when the input is [53, 59, 6, 1, 58, 56] the target is 47\n",
      "when the input is [53, 59, 6, 1, 58, 56, 47] the target is 40\n",
      "when the input is [53, 59, 6, 1, 58, 56, 47, 40] the target is 59\n",
      "\n",
      "\n",
      "when the input is [49] the target is 43\n",
      "when the input is [49, 43] the target is 43\n",
      "when the input is [49, 43, 43] the target is 54\n",
      "when the input is [49, 43, 43, 54] the target is 1\n",
      "when the input is [49, 43, 43, 54, 1] the target is 47\n",
      "when the input is [49, 43, 43, 54, 1, 47] the target is 58\n",
      "when the input is [49, 43, 43, 54, 1, 47, 58] the target is 1\n",
      "when the input is [49, 43, 43, 54, 1, 47, 58, 1] the target is 58\n",
      "\n",
      "\n",
      "when the input is [13] the target is 52\n",
      "when the input is [13, 52] the target is 45\n",
      "when the input is [13, 52, 45] the target is 43\n",
      "when the input is [13, 52, 45, 43] the target is 50\n",
      "when the input is [13, 52, 45, 43, 50] the target is 53\n",
      "when the input is [13, 52, 45, 43, 50, 53] the target is 8\n",
      "when the input is [13, 52, 45, 43, 50, 53, 8] the target is 0\n",
      "when the input is [13, 52, 45, 43, 50, 53, 8, 0] the target is 26\n",
      "\n",
      "\n",
      "when the input is [1] the target is 39\n",
      "when the input is [1, 39] the target is 1\n",
      "when the input is [1, 39, 1] the target is 46\n",
      "when the input is [1, 39, 1, 46] the target is 53\n",
      "when the input is [1, 39, 1, 46, 53] the target is 59\n",
      "when the input is [1, 39, 1, 46, 53, 59] the target is 57\n",
      "when the input is [1, 39, 1, 46, 53, 59, 57] the target is 43\n",
      "when the input is [1, 39, 1, 46, 53, 59, 57, 43] the target is 0\n",
      "\n",
      "\n"
     ]
    }
   ],
   "source": [
    "torch.manual_seed(1337)\n",
    "BATCH_SIZE = 4\n",
    "BLOCK_SIZE = 8\n",
    "\n",
    "def get_batch(split):\n",
    "  data = train_data if split == \"train\" else valid_data\n",
    "  ix = torch.randint(len(data) - BLOCK_SIZE, (BATCH_SIZE, )) # Initiate random starting point in data of length BATCH_SIZE\n",
    "  x = torch.stack([data[i:BLOCK_SIZE+i] for i in ix]) # Stack BLOCK_SIZE list from the start of ix[i] to ix[i] + BLOCK_SIZE (appending encoded values)\n",
    "  y = torch.stack([data[i+1:BLOCK_SIZE+i+1] for i in ix]) # Stack BLOCK_SIZE list, similar to x, but with offset of 1\n",
    "  return x, y, ix\n",
    "\n",
    "xb, yb, _ = get_batch(\"train\")\n",
    "print(\"context\")\n",
    "print(xb.shape)\n",
    "print(xb)\n",
    "\n",
    "print(\"target\")\n",
    "print(yb.shape)\n",
    "print(yb)\n",
    "print(\"----------------------------\")\n",
    "\n",
    "for b in range(BATCH_SIZE):\n",
    "  for t in range(BLOCK_SIZE):\n",
    "    context = xb[b, :t+1]\n",
    "    target = yb[b, t]\n",
    "    print(f\"when the input is {context.tolist()} the target is {target}\")\n",
    "  print('\\n')"
   ]
  },
  {
   "cell_type": "markdown",
   "metadata": {},
   "source": [
    "# Bigram Language Model"
   ]
  },
  {
   "cell_type": "markdown",
   "metadata": {},
   "source": []
  }
 ],
 "metadata": {
  "kernelspec": {
   "display_name": "Python 3",
   "language": "python",
   "name": "python3"
  },
  "language_info": {
   "codemirror_mode": {
    "name": "ipython",
    "version": 3
   },
   "file_extension": ".py",
   "mimetype": "text/x-python",
   "name": "python",
   "nbconvert_exporter": "python",
   "pygments_lexer": "ipython3",
   "version": "3.11.5"
  }
 },
 "nbformat": 4,
 "nbformat_minor": 2
}
